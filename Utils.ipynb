{
 "cells": [
  {
   "cell_type": "code",
   "execution_count": 1,
   "metadata": {},
   "outputs": [
    {
     "name": "stderr",
     "output_type": "stream",
     "text": [
      "Using TensorFlow backend.\n"
     ]
    }
   ],
   "source": [
    "import keras.backend as K\n",
    "import math\n",
    "import numpy as np\n",
    "import h5py\n",
    "import matplotlib.pyplot as plt"
   ]
  },
  {
   "cell_type": "code",
   "execution_count": 2,
   "metadata": {
    "collapsed": true
   },
   "outputs": [],
   "source": [
    "def mean_pred(y_true, y_pred):\n",
    "    return K.mean(y_pred)"
   ]
  },
  {
   "cell_type": "code",
   "execution_count": 4,
   "metadata": {
    "collapsed": true
   },
   "outputs": [],
   "source": [
    "def load_dataset():\n",
    "    train_dataset = h5py.File('Untitled Folder 1/train.h5',\"r\")\n",
    "    train_set_x = np.array(train_dataset[\"train_set_x\"[:]])\n",
    "    train_set_y = np.array(train_dataset[\"train_set_y\"[:]])\n",
    "    \n",
    "    test_dataset = h5py.File('Untitled Folder 1/test.h5',\"r\")\n",
    "    test_set_x = np.array(test_dataset[\"test_set_x\"[:]])\n",
    "    test_set_y = np.array(test_dataset[\"test_set_y\"[:]]) #analyzed only basis of happy or angry faces\n",
    "    \n",
    "    classes = np.array(test_dataset[\"list_classes\"][:])\n",
    "    #train_set_x = train_set_x.reshape((1,train_set_x.shape[0]))\n",
    "    #test_set_x = test_set_x.reshape((1,test_set_x.shape[0]))\n",
    "    \n",
    "    return train_set_x, train_set_y,test_set_x,test_set_y,classes"
   ]
  },
  {
   "cell_type": "code",
   "execution_count": null,
   "metadata": {
    "collapsed": true
   },
   "outputs": [],
   "source": []
  }
 ],
 "metadata": {
  "kernelspec": {
   "display_name": "Python 3",
   "language": "python",
   "name": "python3"
  },
  "language_info": {
   "codemirror_mode": {
    "name": "ipython",
    "version": 3
   },
   "file_extension": ".py",
   "mimetype": "text/x-python",
   "name": "python",
   "nbconvert_exporter": "python",
   "pygments_lexer": "ipython3",
   "version": "3.6.1"
  }
 },
 "nbformat": 4,
 "nbformat_minor": 2
}
